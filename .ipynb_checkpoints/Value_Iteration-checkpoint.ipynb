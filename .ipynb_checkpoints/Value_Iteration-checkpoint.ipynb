{
 "cells": [
  {
   "cell_type": "code",
   "execution_count": null,
   "metadata": {},
   "outputs": [],
   "source": [
    "import gym\n",
    "import numpy as np"
   ]
  },
  {
   "cell_type": "markdown",
   "metadata": {},
   "source": [
    "    VALUE ITERATION: This is a dynamic programming approach to solving MDP using the optimal bellman equation. max(q_sa) is the key step here."
   ]
  },
  {
   "cell_type": "code",
   "execution_count": null,
   "metadata": {},
   "outputs": [],
   "source": [
    "def valueIiteration(env, gamma = 1.0):\n",
    "    '''\n",
    "    @in  : env - Gym Environment\n",
    "           gamma - Discount Factor \n",
    "    \n",
    "    @out : v[s] - Value Function\n",
    "    '''\n",
    "    \n",
    "    v = np.zeros(env.env.nS)\n",
    "    \n",
    "    max_iter = 1000\n",
    "    eps = 1e-20\n",
    "    for i in range(max_iter):\n",
    "        v_prev = np.copy(v)\n",
    "        for s in range(env.env.nS): \n",
    "            # iterating over all states\n",
    "            for a in range(env.env.nA):\n",
    "                #iterating over all actions\n",
    "                q_sa = np.zeros(env.env.nA)\n",
    "                for p, s_next, r, _ in env.env.P[s][a]:\n",
    "                    q_sa[a] = p*(r + v_prev[s_next])\n",
    "        \n",
    "        v[s] = max(q_sa)\n",
    "    \n",
    "        if(np.sum(np.abs(v-v_prev))<eps):\n",
    "            print('Value iteration converged at iteration %d' %(i+1))\n",
    "            break    \n",
    "        \n",
    "    return v\n",
    "    \n",
    "    \n",
    "    "
   ]
  },
  {
   "cell_type": "code",
   "execution_count": null,
   "metadata": {},
   "outputs": [],
   "source": [
    "def __main__():\n",
    "    \n",
    "    env = gym.make('FrozenLake-v0')\n",
    "    env.reset()\n",
    "    \n",
    "    gamma = 1.0\n",
    "    \n",
    "    optimal_value = valueIteration(env, gamma)\n",
    "    \n",
    "    "
   ]
  }
 ],
 "metadata": {
  "kernelspec": {
   "display_name": "Python 3",
   "language": "python",
   "name": "python3"
  },
  "language_info": {
   "codemirror_mode": {
    "name": "ipython",
    "version": 3
   },
   "file_extension": ".py",
   "mimetype": "text/x-python",
   "name": "python",
   "nbconvert_exporter": "python",
   "pygments_lexer": "ipython3",
   "version": "3.6.9"
  }
 },
 "nbformat": 4,
 "nbformat_minor": 4
}
